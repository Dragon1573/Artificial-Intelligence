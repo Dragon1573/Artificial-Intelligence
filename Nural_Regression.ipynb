{
 "cells": [
  {
   "cell_type": "markdown",
   "metadata": {},
   "source": [
    "# 第三章·第1节　神经网络实现：拟合\n",
    "\n",
    "以下是本次项目需要使用的所有依赖项：\n",
    "\n",
    "- pytorch\n",
    "- matplotlib"
   ]
  },
  {
   "cell_type": "markdown",
   "metadata": {},
   "source": [
    "## 数据的准备"
   ]
  },
  {
   "cell_type": "markdown",
   "metadata": {},
   "source": [
    "1. 导入需要的第三方Python包"
   ]
  },
  {
   "cell_type": "code",
   "execution_count": 1,
   "metadata": {},
   "outputs": [],
   "source": [
    "import torch\n",
    "import torch.nn.functional as F\n",
    "import matplotlib.pyplot as plt"
   ]
  },
  {
   "cell_type": "markdown",
   "metadata": {},
   "source": [
    "2. 生成一定规模的数据集"
   ]
  },
  {
   "cell_type": "code",
   "execution_count": 2,
   "metadata": {},
   "outputs": [],
   "source": [
    "# 在[-1, 1]之间等差地产生100个数据点，并将这些数据升维为二维矩阵\n",
    "x = torch.unsqueeze(torch.linspace(-1, 1, 100), dim=1)\n",
    "# 这些只是生成了横坐标，我们还要生成纵坐标，才能组成平面上的点。\n",
    "# 生成一个近似遵守 y = x ^ 2 + C 的数据点，C作为随机噪点对标准数据产生干扰\n",
    "y = x.pow(2) + 0.2 * torch.rand(x.size())"
   ]
  },
  {
   "cell_type": "markdown",
   "metadata": {},
   "source": [
    "3. 绘制离散的数据集"
   ]
  },
  {
   "cell_type": "code",
   "execution_count": 3,
   "metadata": {},
   "outputs": [
    {
     "data": {
      "text/plain": [
       "<module 'matplotlib.pyplot' from 'D:\\\\Anaconda3\\\\lib\\\\site-packages\\\\matplotlib\\\\pyplot.py'>"
      ]
     },
     "execution_count": 3,
     "metadata": {},
     "output_type": "execute_result"
    },
    {
     "data": {
      "image/png": "[encoded data removed]",
      "text/plain": [
       "<Figure size 432x288 with 1 Axes>"
      ]
     },
     "metadata": {
      "needs_background": "light"
     },
     "output_type": "display_data"
    }
   ],
   "source": [
    "# 根据横纵坐标绘制散点图\n",
    "plt.scatter(x.data.numpy(), y.data.numpy())\n",
    "# 展示散点图\n",
    "plt"
   ]
  },
  {
   "cell_type": "markdown",
   "metadata": {},
   "source": [
    "## 定义神经网络模型"
   ]
  },
  {
   "cell_type": "code",
   "execution_count": 4,
   "metadata": {},
   "outputs": [],
   "source": [
    "class Net(torch.nn.Module):\n",
    "    ''' # 自定义神经网络模型 #\n",
    "\n",
    "        torch.nn.Module是神经网络模型的核心类\n",
    "    '''\n",
    "\n",
    "    def __init__(self, input_nodes, hidden_nodes, output_nodes):\n",
    "        ''' # ★构造函数 #\n",
    "\n",
    "            构造函数定义了搭建每一层神经网络所需要的必须参数\n",
    "            \n",
    "            input_nodes: 输入层节点数\n",
    "            hidden_nodes: 隐含层节点数\n",
    "            output_nodes: 输出层结点数\n",
    "        '''\n",
    "        # 将torch.nn.Module继承到Net中，同时初始化torch.nn.Module\n",
    "        super(Net, self).__init__()\n",
    "        # 这是神经网络中的一层，每一层都可以单独视作一个模型，拥有输入、隐含、输出3层。\n",
    "        # 每2层神经元之间的联结强度都是线性关系，按照敏感程度线性地激发/抑制\n",
    "        self.hidden = torch.nn.Linear(input_nodes, hidden_nodes)\n",
    "        self.predict = torch.nn.Linear(hidden_nodes, output_nodes)\n",
    "\n",
    "    def forward(self, x):\n",
    "        ''' #前向传递过程描述 #\n",
    "\n",
    "            在这个Demo中，我们用于解决拟合问题的神经网络是一个前馈网络。\n",
    "            前馈网络必须定义前向传播的方法\n",
    "            \n",
    "            x: 前一层输入的激发度\n",
    "        '''\n",
    "        # 用Relu激励函数对激发值进行压缩\n",
    "        x = F.relu(self.hidden(x))\n",
    "        # 继续将神经刺激传递给下一层，激励压缩在下一层输入时发生\n",
    "        x = self.predict(x)\n",
    "        # 返回神经冲动\n",
    "        return x"
   ]
  },
  {
   "cell_type": "markdown",
   "metadata": {},
   "source": [
    "## 构建模型"
   ]
  },
  {
   "cell_type": "code",
   "execution_count": 5,
   "metadata": {},
   "outputs": [
    {
     "data": {
      "text/plain": [
       "Net(\n",
       "  (hidden): Linear(in_features=1, out_features=10, bias=True)\n",
       "  (predict): Linear(in_features=10, out_features=1, bias=True)\n",
       ")"
      ]
     },
     "execution_count": 5,
     "metadata": {},
     "output_type": "execute_result"
    }
   ],
   "source": [
    "# Demo所用的神经网络模型为单隐含层模型，\n",
    "# 1个输入结点，10个隐含节点，1个输出结点\n",
    "net = Net(1, 10, 1)\n",
    "# 查看模型详情\n",
    "net"
   ]
  },
  {
   "cell_type": "markdown",
   "metadata": {},
   "source": [
    "## 构建优化器"
   ]
  },
  {
   "cell_type": "markdown",
   "metadata": {},
   "source": [
    "*SGD*（Stochastic Gradient Descent）是*梯度下降法*的一种。我们要通过这个内置优化器优化神经网络的各种参数，就必须传入参数并指定优化器的*学习率*。\n",
    "\n",
    "*学习率*越高意味着神经网络的训练速度越高，但过高的学习率将导致参数的过拟合，反而降低了神经网络的准确度（钻牛角尖到死胡同里了）。所以，切忌将学习率调的太高，本次Demo将采用50%的学习率。注意学习率是一个比率（写作小数形式），取值在0～1之间。"
   ]
  },
  {
   "cell_type": "code",
   "execution_count": 6,
   "metadata": {},
   "outputs": [],
   "source": [
    "optimizer = torch.optim.SGD(net.parameters(), lr=0.5)"
   ]
  },
  {
   "cell_type": "markdown",
   "metadata": {},
   "source": [
    "*MSE*（均方误差）是描述估计值与真实值差距的一种方法，我们通过它对模型进行调校，使误差最小化、拟合效果最好。\n",
    "\n",
    "`loss_func`是一个函数对象，按顺序接受2个参数：预测值和准确值。"
   ]
  },
  {
   "cell_type": "code",
   "execution_count": 7,
   "metadata": {},
   "outputs": [],
   "source": [
    "loss_func = torch.nn.MSELoss()"
   ]
  },
  {
   "cell_type": "markdown",
   "metadata": {},
   "source": [
    "## 开始训练！"
   ]
  },
  {
   "cell_type": "markdown",
   "metadata": {},
   "source": [
    "1. 未训练时的初始模型"
   ]
  },
  {
   "cell_type": "code",
   "execution_count": 8,
   "metadata": {},
   "outputs": [
    {
     "data": {
      "image/png": "[encoded data removed]",
      "text/plain": [
       "<Figure size 432x288 with 1 Axes>"
      ]
     },
     "metadata": {
      "needs_background": "light"
     },
     "output_type": "display_data"
    }
   ],
   "source": [
    "import sys\n",
    "from matplotlib.animation import FuncAnimation\n",
    "\n",
    "(figure, axes) = plt.subplots()\n",
    "figure.set_tight_layout(True)\n",
    "screen_dpi = figure.get_dpi()\n",
    "\n",
    "axes.scatter(x.data.numpy(), y.data.numpy())\n",
    "(line,) = axes.plot(x.data.numpy(), net(x).data.numpy(), 'r-', lw=5)"
   ]
  },
  {
   "cell_type": "markdown",
   "metadata": {},
   "source": [
    "2. 定义训练步骤"
   ]
  },
  {
   "cell_type": "code",
   "execution_count": 9,
   "metadata": {},
   "outputs": [],
   "source": [
    "def curve_fitting(index):\n",
    "    # 输入数据并给出预测值\n",
    "    prediction = net(x)\n",
    "    line.set_ydata(prediction.data.numpy())\n",
    "    # 计算预测损失\n",
    "    loss = loss_func(prediction, y)\n",
    "    label = 'Training times: {}\\nLoss: {}'.format(index, loss)\n",
    "    axes.set_xlabel(label)\n",
    "\n",
    "    # 下面的3步就是真正的优化步骤了：\n",
    "    # 1. 清空优化器当中的梯度信息，将它们设置为0，为下一次优化做准备\n",
    "    optimizer.zero_grad()\n",
    "    # 2. 反向传播，为上一层网络计算梯度\n",
    "    loss.backward()\n",
    "    # 3. 以指定的学习率对梯度进行优化\n",
    "    optimizer.step()\n",
    "    \n",
    "    return (line, axes)"
   ]
  },
  {
   "cell_type": "markdown",
   "metadata": {},
   "source": [
    "3. 训练并生成动态图"
   ]
  },
  {
   "cell_type": "code",
   "execution_count": 10,
   "metadata": {},
   "outputs": [],
   "source": [
    "# 共训练200次\n",
    "gif = FuncAnimation(figure, curve_fitting, frames=range(1, 100), interval=1)\n",
    "gif.save('regression.gif', dpi=screen_dpi, writer='imagemagick')"
   ]
  }
 ],
 "metadata": {
  "kernelspec": {
   "display_name": "Python 3",
   "language": "python",
   "name": "python3"
  },
  "language_info": {
   "codemirror_mode": {
    "name": "ipython",
    "version": 3
   },
   "file_extension": ".py",
   "mimetype": "text/x-python",
   "name": "python",
   "nbconvert_exporter": "python",
   "pygments_lexer": "ipython3",
   "version": "3.7.4"
  }
 },
 "nbformat": 4,
 "nbformat_minor": 4
}
